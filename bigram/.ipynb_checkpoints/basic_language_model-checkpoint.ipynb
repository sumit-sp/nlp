{
 "cells": [
  {
   "cell_type": "code",
   "execution_count": 2,
   "id": "44b95ba0-49a7-4863-8bd0-eb206ce10fe1",
   "metadata": {},
   "outputs": [],
   "source": [
    "import warnings\n",
    "from IPython.display import display\n",
    "\n",
    "warnings.filterwarnings(\"ignore\")"
   ]
  },
  {
   "cell_type": "code",
   "execution_count": 1,
   "id": "5396f74f-bc27-455c-9d3a-2407d45cd24a",
   "metadata": {},
   "outputs": [],
   "source": [
    "import torch\n",
    "import torch.nn as nn\n",
    "import torch.nn.functional as F\n",
    "import numpy as np\n",
    "import re"
   ]
  },
  {
   "cell_type": "markdown",
   "id": "090e16c7-6ac2-49f9-a128-55730462276a",
   "metadata": {},
   "source": [
    "### Steps to build a simple Language Model\n",
    "#### 1. Collect data: save a \"*.txt\" with some text in current folder\n",
    "#### 2. Read and Format data: Get the text data in a variable and format as per requirement\n",
    "#### 3. Convert data into tokens : Tokens can be created at character level or word level or sub-word level\n",
    "#### 4. Get embeddings for tokens : Model does not understand tokens as it is hence need to convert them to some form of numbers/vectors\n",
    "#### 5. Build a basic NN : Keep in mind vocab size and embedding size, when designing network input output size\n",
    "#### 6. Write loop to train this model"
   ]
  },
  {
   "cell_type": "code",
   "execution_count": 20,
   "id": "07057bec-4d31-495e-b39e-a9bb75c2ed12",
   "metadata": {},
   "outputs": [
    {
     "name": "stdout",
     "output_type": "stream",
     "text": [
      "Sample text from corpus:\n",
      "The Project Gutenberg eBook of Dorothy and the Wizard in Oz\n",
      "    \n",
      "This ebook is for the use of anyone anywhere in the United States and\n",
      "most other parts of the world at no cost and with almost no restr\n"
     ]
    }
   ],
   "source": [
    "# Data collection\n",
    "\n",
    "with open(\"./data/wizard_of_oz.txt\", 'r', encoding=\"utf-8-sig\") as f:\n",
    "    text = f.read()\n",
    "\n",
    "print(f\"Sample text from corpus:\\n{text[:200]}\")"
   ]
  },
  {
   "cell_type": "code",
   "execution_count": null,
   "id": "539248f2-11c8-402e-b878-dc5ed35d6515",
   "metadata": {},
   "outputs": [],
   "source": [
    "# Data collection\n",
    "\n",
    "def format_names(input_file, output_file):\n",
    "    formatted_names = []\n",
    "    with open(input_file, 'r') as f:\n",
    "        for line in f:\n",
    "            parts = line.split(' - ')\n",
    "            if len(parts) == 2:\n",
    "                name = parts[0].strip().lower()\n",
    "                name = re.sub(r'^[^a-zA-Z]*|[^a-zA-Z]*$', '', name)\n",
    "                formatted_names.append(name)\n",
    "\n",
    "    with open(output_file, 'w') as f:\n",
    "        f.write('\\n'.join(formatted_names))\n",
    "\n",
    "# Example usage:\n",
    "input_file = './data/marathi_boy_names.txt'\n",
    "output_file = './data/marathi_names_output.txt'\n",
    "format_names(input_file, output_file)\n"
   ]
  },
  {
   "cell_type": "code",
   "execution_count": 4,
   "id": "d5cf4286-6f82-4733-abde-11fc035d634f",
   "metadata": {},
   "outputs": [
    {
     "name": "stdout",
     "output_type": "stream",
     "text": [
      "['aarv', 'ansh', 'aalok', 'aapt', 'aabheer']\n"
     ]
    }
   ],
   "source": [
    "# Create a loop that reads all the names in \"marathi_names_output.txt\" line by line, \n",
    "# and adds start <s> and end <e> at the starting and ending of each of the name\n",
    "\n",
    "with open(\"./data/marathi_names_output.txt\", \"r\", encoding=\"utf-8\") as f:\n",
    "    text = f.readlines()\n",
    "name_list = []\n",
    "for name in text:\n",
    "    name = name.strip()\n",
    "    name_list.append(name)\n",
    "\n",
    "print(name_list[:5])\n",
    "    "
   ]
  },
  {
   "cell_type": "code",
   "execution_count": 5,
   "id": "64857ff2-658b-4cdb-908b-34ca319019b5",
   "metadata": {},
   "outputs": [],
   "source": [
    "# Create mapping of chars and integers\n",
    "sequence = []\n",
    "chars = []\n",
    "for name in name_list:\n",
    "    sequence += [\"<s>\"] + list(name) + [\"<e>\"]\n",
    "sequence.remove(\"/\")\n",
    "vocab = sorted(set(sequence))\n",
    "\n",
    "char_to_idx = {char:idx for idx,char in enumerate(vocab)}\n",
    "idx_to_char = {idx:char for idx,char in enumerate(vocab)}"
   ]
  },
  {
   "cell_type": "code",
   "execution_count": 6,
   "id": "bb1b2484-4ab1-45cc-8355-e3b84dbddb89",
   "metadata": {},
   "outputs": [],
   "source": [
    "# Now let us create the Bigrams out of list of names\n",
    "bigram = []\n",
    "for i in range(len(sequence)- 1):\n",
    "    ch1 = sequence[i]\n",
    "    ch2 = sequence[i+1]\n",
    "    bigram.append(tuple([ch1,ch2]))\n",
    "bigram = list(filter(lambda x: x != ('<e>', '<s>') , bigram))"
   ]
  },
  {
   "cell_type": "code",
   "execution_count": 7,
   "id": "8474de5e-20ac-4c62-abf3-2ec5e79b5261",
   "metadata": {},
   "outputs": [
    {
     "name": "stdout",
     "output_type": "stream",
     "text": [
      "3534\n",
      "[('<s>', 'a'), ('a', 'a'), ('a', 'r'), ('r', 'v'), ('v', '<e>'), ('<s>', 'a'), ('a', 'n'), ('n', 's'), ('s', 'h'), ('h', '<e>')]\n"
     ]
    }
   ],
   "source": [
    "print(len(bigram))\n",
    "print(bigram[:10])"
   ]
  },
  {
   "cell_type": "code",
   "execution_count": 8,
   "id": "1386a9c2-2bd2-4dbc-8239-def834b897cb",
   "metadata": {},
   "outputs": [
    {
     "name": "stdout",
     "output_type": "stream",
     "text": [
      "Number of unique occurences of bigrams: 290\n"
     ]
    }
   ],
   "source": [
    "bigram_count = {}\n",
    "\n",
    "#Iterate over unique items in bigram list and count their occurance\n",
    "for item in set(bigram):\n",
    "    bigram_count[item] = bigram.count(item)\n",
    "bigram_count = sorted(bigram_count.items(), key=lambda x: x[1], reverse= True)\n",
    "\n",
    "print(f\"Number of unique occurences of bigrams: {len(bigram_count)}\")"
   ]
  },
  {
   "cell_type": "code",
   "execution_count": 48,
   "id": "44ff0d6b-d4b2-4b7e-8484-fb39805b156f",
   "metadata": {},
   "outputs": [],
   "source": [
    "bigram_matrix = torch.zeros((len(vocab), len(vocab)), dtype = torch.int32)\n",
    "\n",
    "for item in bigram_count:\n",
    "    ch1 = item[0][0]\n",
    "    ch1_idx = char_to_idx[ch1]\n",
    "    ch2 = item[0][1]\n",
    "    ch2_idx = char_to_idx[ch2]\n",
    "    bigram_matrix[ch1_idx][ch2_idx] = item[1]\n",
    "bigram_matrix += 1"
   ]
  },
  {
   "cell_type": "code",
   "execution_count": 49,
   "id": "1569d731-977b-40c2-8220-3724ff219d56",
   "metadata": {},
   "outputs": [
    {
     "data": {
      "text/plain": [
       "torch.Size([25, 25])"
      ]
     },
     "execution_count": 49,
     "metadata": {},
     "output_type": "execute_result"
    }
   ],
   "source": [
    "bigram_matrix.size()"
   ]
  },
  {
   "cell_type": "code",
   "execution_count": 50,
   "id": "c4db5932-0d44-4987-bfa6-630160d3d558",
   "metadata": {},
   "outputs": [],
   "source": [
    "import matplotlib.pyplot as plt\n",
    "%matplotlib inline\n",
    "\n",
    "numpy_array = bigram_matrix.to('cpu').numpy()"
   ]
  },
  {
   "cell_type": "code",
   "execution_count": 51,
   "id": "4ce850a8-612d-4e23-8b9c-b234e569deab",
   "metadata": {},
   "outputs": [
    {
     "data": {
      "text/plain": [
       "(25, 25)"
      ]
     },
     "execution_count": 51,
     "metadata": {},
     "output_type": "execute_result"
    }
   ],
   "source": [
    "numpy_array.shape"
   ]
  },
  {
   "cell_type": "code",
   "execution_count": 84,
   "id": "106a880e-f370-4c9c-b281-5129c024ffde",
   "metadata": {},
   "outputs": [
    {
     "data": {
      "image/png": "[encoded data removed]",
      "text/plain": [
       "<Figure size 1500x1500 with 1 Axes>"
      ]
     },
     "metadata": {},
     "output_type": "display_data"
    }
   ],
   "source": [
    "# Define labels for rows and columns\n",
    "row_labels = vocab\n",
    "col_labels = vocab\n",
    "\n",
    "# Plot the heatmap\n",
    "plt.figure(figsize=(15, 15))\n",
    "plt.imshow(numpy_array, cmap='plasma', interpolation='nearest', alpha= 0.4)\n",
    "\n",
    "# Show values inside each square\n",
    "for i in range(len(row_labels)):\n",
    "    for j in range(len(col_labels)):\n",
    "        plt.text(j, i, numpy_array[i, j], ha='center', va='center', color='black')\n",
    "\n",
    "# Set labels for rows and columns\n",
    "plt.xticks(range(len(col_labels)), col_labels, rotation=90)\n",
    "plt.yticks(range(len(row_labels)), row_labels)\n",
    "# plt.xlabel('Columns')\n",
    "plt.ylabel('Rows')\n",
    "\n",
    "plt.tick_params(axis='x', which='both', bottom=False, top=True, labelbottom=False, labeltop=True)\n",
    "\n",
    "# plt.title('Heatmap with Labels')\n",
    "# plt.colorbar()\n",
    "plt.show()"
   ]
  },
  {
   "cell_type": "code",
   "execution_count": 53,
   "id": "62a67299-ad80-4500-8a12-7bbb83f118e0",
   "metadata": {},
   "outputs": [],
   "source": [
    "# From bigram pair counts create the probabilities\n",
    "P = bigram_matrix / bigram_matrix.sum(dim=1, keepdim = True)"
   ]
  },
  {
   "cell_type": "code",
   "execution_count": 54,
   "id": "5d835786-f1c2-4349-995b-bcc4e553ae33",
   "metadata": {},
   "outputs": [
    {
     "data": {
      "text/plain": [
       "tensor([[0.0400, 0.0400, 0.0400, 0.0400, 0.0400, 0.0400, 0.0400, 0.0400, 0.0400,\n",
       "         0.0400, 0.0400, 0.0400, 0.0400, 0.0400, 0.0400, 0.0400, 0.0400, 0.0400,\n",
       "         0.0400, 0.0400, 0.0400, 0.0400, 0.0400, 0.0400, 0.0400],\n",
       "        [0.0020, 0.0020, 0.1245, 0.0622, 0.0241, 0.0602, 0.0201, 0.0562, 0.0261,\n",
       "         0.0020, 0.0161, 0.0341, 0.0100, 0.0402, 0.0221, 0.0060, 0.1084, 0.0602,\n",
       "         0.1044, 0.0683, 0.0181, 0.0944, 0.0100, 0.0020, 0.0261],\n",
       "        [0.0516, 0.0014, 0.0408, 0.0326, 0.0095, 0.0611, 0.0041, 0.0258, 0.0122,\n",
       "         0.0258, 0.0448, 0.0448, 0.0353, 0.0693, 0.2120, 0.0163, 0.0082, 0.1236,\n",
       "         0.0503, 0.0462, 0.0136, 0.0380, 0.0027, 0.0027, 0.0272],\n",
       "        [0.0217, 0.0109, 0.2283, 0.0109, 0.0109, 0.0217, 0.0217, 0.0109, 0.4239,\n",
       "         0.0435, 0.0109, 0.0109, 0.0109, 0.0109, 0.0109, 0.0326, 0.0109, 0.0109,\n",
       "         0.0109, 0.0109, 0.0217, 0.0109, 0.0109, 0.0109, 0.0109],\n",
       "        [0.0204, 0.0204, 0.0204, 0.0204, 0.0204, 0.0204, 0.0204, 0.0204, 0.5102,\n",
       "         0.0204, 0.0204, 0.0204, 0.0204, 0.0204, 0.0204, 0.0204, 0.0204, 0.0204,\n",
       "         0.0204, 0.0204, 0.0204, 0.0204, 0.0204, 0.0204, 0.0204],\n",
       "        [0.1023, 0.0057, 0.1932, 0.0057, 0.0057, 0.0170, 0.1136, 0.0057, 0.1989,\n",
       "         0.0795, 0.0057, 0.0057, 0.0057, 0.0227, 0.0170, 0.0114, 0.0057, 0.0852,\n",
       "         0.0057, 0.0057, 0.0398, 0.0114, 0.0114, 0.0057, 0.0341],\n",
       "        [0.0357, 0.0071, 0.0071, 0.0143, 0.0071, 0.0357, 0.1357, 0.0071, 0.0143,\n",
       "         0.0143, 0.0214, 0.1000, 0.0143, 0.0143, 0.0357, 0.0143, 0.0500, 0.0286,\n",
       "         0.2071, 0.0786, 0.0071, 0.0857, 0.0071, 0.0071, 0.0500],\n",
       "        [0.1609, 0.0115, 0.3218, 0.0115, 0.0115, 0.0115, 0.0345, 0.0115, 0.0575,\n",
       "         0.0460, 0.0115, 0.0115, 0.0115, 0.0230, 0.0230, 0.0690, 0.0115, 0.0230,\n",
       "         0.0115, 0.0115, 0.0460, 0.0230, 0.0115, 0.0115, 0.0230],\n",
       "        [0.2376, 0.0035, 0.3865, 0.0035, 0.0071, 0.0035, 0.0532, 0.0035, 0.0071,\n",
       "         0.1028, 0.0035, 0.0071, 0.0035, 0.0071, 0.0142, 0.0177, 0.0035, 0.0248,\n",
       "         0.0035, 0.0035, 0.0355, 0.0035, 0.0355, 0.0035, 0.0248],\n",
       "        [0.0800, 0.0050, 0.0050, 0.0400, 0.0050, 0.0600, 0.0050, 0.0200, 0.0100,\n",
       "         0.0050, 0.0200, 0.0900, 0.0750, 0.0250, 0.1050, 0.0100, 0.0200, 0.1150,\n",
       "         0.0900, 0.1200, 0.0050, 0.0550, 0.0200, 0.0050, 0.0100],\n",
       "        [0.2368, 0.0132, 0.2632, 0.0132, 0.0132, 0.0132, 0.0658, 0.0132, 0.0132,\n",
       "         0.0526, 0.0263, 0.0132, 0.0132, 0.0132, 0.0263, 0.0132, 0.0132, 0.0526,\n",
       "         0.0132, 0.0132, 0.0395, 0.0132, 0.0263, 0.0132, 0.0132],\n",
       "        [0.2500, 0.0078, 0.2969, 0.0078, 0.0078, 0.0156, 0.0703, 0.0078, 0.0391,\n",
       "         0.0469, 0.0078, 0.0078, 0.0078, 0.0078, 0.0078, 0.0078, 0.0078, 0.0547,\n",
       "         0.0391, 0.0078, 0.0547, 0.0078, 0.0078, 0.0078, 0.0156],\n",
       "        [0.2692, 0.0128, 0.2051, 0.0128, 0.0385, 0.0385, 0.0128, 0.0128, 0.0385,\n",
       "         0.0513, 0.0128, 0.0128, 0.0128, 0.0128, 0.0128, 0.0641, 0.0256, 0.0128,\n",
       "         0.0256, 0.0128, 0.0128, 0.0128, 0.0256, 0.0128, 0.0385],\n",
       "        [0.2250, 0.0083, 0.3000, 0.0417, 0.0083, 0.0250, 0.0667, 0.0083, 0.0083,\n",
       "         0.0583, 0.0083, 0.0167, 0.0083, 0.0083, 0.0083, 0.0833, 0.0083, 0.0167,\n",
       "         0.0083, 0.0083, 0.0333, 0.0167, 0.0083, 0.0083, 0.0083],\n",
       "        [0.2181, 0.0041, 0.1317, 0.0041, 0.0123, 0.1523, 0.0453, 0.0494, 0.0082,\n",
       "         0.0535, 0.0165, 0.0412, 0.0041, 0.0165, 0.0082, 0.0165, 0.0082, 0.0165,\n",
       "         0.0329, 0.0823, 0.0494, 0.0082, 0.0041, 0.0041, 0.0123],\n",
       "        [0.1548, 0.0119, 0.0119, 0.0119, 0.0357, 0.0952, 0.0119, 0.0357, 0.0833,\n",
       "         0.0119, 0.0238, 0.0595, 0.0238, 0.0595, 0.0714, 0.0357, 0.0238, 0.0476,\n",
       "         0.0238, 0.0238, 0.0476, 0.0357, 0.0238, 0.0119, 0.0238],\n",
       "        [0.0722, 0.0103, 0.3093, 0.0103, 0.0103, 0.0103, 0.0309, 0.0103, 0.0103,\n",
       "         0.0206, 0.0103, 0.0103, 0.0103, 0.0103, 0.0103, 0.0309, 0.0103, 0.2577,\n",
       "         0.0103, 0.0309, 0.0722, 0.0103, 0.0103, 0.0103, 0.0103],\n",
       "        [0.1822, 0.0037, 0.4796, 0.0074, 0.0037, 0.0260, 0.0335, 0.0037, 0.0037,\n",
       "         0.0855, 0.0037, 0.0074, 0.0037, 0.0037, 0.0037, 0.0186, 0.0037, 0.0074,\n",
       "         0.0223, 0.0260, 0.0297, 0.0223, 0.0037, 0.0037, 0.0112],\n",
       "        [0.0535, 0.0053, 0.1070, 0.0053, 0.0053, 0.0053, 0.0107, 0.0053, 0.5134,\n",
       "         0.0428, 0.0053, 0.0160, 0.0053, 0.0107, 0.0107, 0.0321, 0.0053, 0.0267,\n",
       "         0.0053, 0.0107, 0.0588, 0.0107, 0.0321, 0.0053, 0.0107],\n",
       "        [0.2130, 0.0059, 0.1953, 0.0059, 0.0059, 0.0059, 0.0178, 0.0059, 0.1479,\n",
       "         0.0710, 0.0059, 0.0118, 0.0059, 0.0059, 0.0118, 0.0118, 0.0059, 0.0947,\n",
       "         0.0178, 0.0355, 0.0651, 0.0178, 0.0059, 0.0059, 0.0237],\n",
       "        [0.1520, 0.0080, 0.0080, 0.0160, 0.0080, 0.0560, 0.0080, 0.0160, 0.0240,\n",
       "         0.0080, 0.0240, 0.0560, 0.0720, 0.0640, 0.0960, 0.0080, 0.0240, 0.1280,\n",
       "         0.0880, 0.0960, 0.0080, 0.0080, 0.0080, 0.0080, 0.0080],\n",
       "        [0.2239, 0.0075, 0.2239, 0.0075, 0.0075, 0.0075, 0.0522, 0.0075, 0.0075,\n",
       "         0.2985, 0.0075, 0.0075, 0.0075, 0.0075, 0.0299, 0.0075, 0.0075, 0.0224,\n",
       "         0.0075, 0.0075, 0.0075, 0.0149, 0.0075, 0.0075, 0.0075],\n",
       "        [0.0196, 0.0196, 0.4902, 0.0196, 0.0196, 0.0196, 0.0196, 0.0196, 0.0196,\n",
       "         0.0196, 0.0196, 0.0196, 0.0196, 0.0196, 0.0196, 0.0196, 0.0196, 0.0588,\n",
       "         0.0196, 0.0196, 0.0196, 0.0196, 0.0196, 0.0196, 0.0196],\n",
       "        [0.0385, 0.0385, 0.0385, 0.0385, 0.0385, 0.0385, 0.0385, 0.0385, 0.0385,\n",
       "         0.0385, 0.0385, 0.0385, 0.0385, 0.0769, 0.0385, 0.0385, 0.0385, 0.0385,\n",
       "         0.0385, 0.0385, 0.0385, 0.0385, 0.0385, 0.0385, 0.0385],\n",
       "        [0.2069, 0.0115, 0.4138, 0.0115, 0.0115, 0.0115, 0.0345, 0.0115, 0.0115,\n",
       "         0.0115, 0.0115, 0.0115, 0.0115, 0.0115, 0.0115, 0.0345, 0.0115, 0.0115,\n",
       "         0.0115, 0.0115, 0.0805, 0.0115, 0.0115, 0.0115, 0.0115]])"
      ]
     },
     "execution_count": 54,
     "metadata": {},
     "output_type": "execute_result"
    }
   ],
   "source": [
    "P"
   ]
  },
  {
   "cell_type": "code",
   "execution_count": 78,
   "id": "98fc83d2-0cf0-4f4b-990a-1dc70a93c5d4",
   "metadata": {},
   "outputs": [
    {
     "data": {
      "text/plain": [
       "tensor([0])"
      ]
     },
     "execution_count": 78,
     "metadata": {},
     "output_type": "execute_result"
    }
   ],
   "source": [
    "P[1, 2:]\n",
    "torch.multinomial(P[1, 2:], num_samples = 1,replacement = True, generator = generator )"
   ]
  },
  {
   "cell_type": "code",
   "execution_count": 81,
   "id": "463ce7c3-e405-4dea-a9cd-755edb234c89",
   "metadata": {},
   "outputs": [
    {
     "name": "stdout",
     "output_type": "stream",
     "text": [
      "['yodhak', 'aka', 'v', 'pinjr', 'gugam', 'gct', 'dh', 'vpttyu', 'gkaajarubhandhrir', 'gariswakutalcdeevidhan', 'd', 'garajesbchit', 'ab', 'kmkbeyaad', 'a', 'aly', 'shamajran', 'shya', 'am', 'lsh']\n"
     ]
    }
   ],
   "source": [
    "generator = torch.Generator()\n",
    "generator.manual_seed(20984173)\n",
    "\n",
    "name_list = []\n",
    "for i in range(20):\n",
    "    name = []\n",
    "    # When picking index of first letter first two columns <e> and <s> shall be ommited\n",
    "    # We are selecting from row 1 P[1, 2:] since it has count of words that come after start <s>\n",
    "    first_letter_idx = torch.multinomial(P[1, 2:], num_samples = 1,replacement = True, generator = generator ) + 2\n",
    "    first_letter = idx_to_char[first_letter_idx.item()]\n",
    "\n",
    "    Nx = first_letter_idx.item()\n",
    "    name.append(first_letter)\n",
    "    while True:\n",
    "        \n",
    "        letter_idx = torch.multinomial(P[Nx, :], num_samples = 1,replacement = True, generator = generator )\n",
    "        Nx = letter_idx.item()      \n",
    "        if Nx == 0:\n",
    "            name_list.append(\"\".join(name))\n",
    "            break\n",
    "        letter = idx_to_char[letter_idx.item()]\n",
    "        name.append(letter)\n",
    "print(name_list)"
   ]
  },
  {
   "cell_type": "markdown",
   "id": "7acf8cfc-4812-4dc6-adb4-6a331e93100e",
   "metadata": {},
   "source": [
    "#### Explanation and working of Broadcasting in torch tensors"
   ]
  },
  {
   "cell_type": "code",
   "execution_count": 83,
   "id": "9af52e35-7042-40de-bff5-4043f69c2214",
   "metadata": {},
   "outputs": [
    {
     "name": "stdout",
     "output_type": "stream",
     "text": [
      "torch.Size([2, 4, 3])\n",
      "tensor([[[1, 0, 1],\n",
      "         [2, 3, 1],\n",
      "         [3, 1, 1],\n",
      "         [0, 0, 3]],\n",
      "\n",
      "        [[0, 0, 3],\n",
      "         [1, 1, 1],\n",
      "         [2, 2, 2],\n",
      "         [3, 1, 1]]])\n",
      "sum across dim 0:\n",
      " tensor([[[1, 0, 4],\n",
      "         [3, 4, 2],\n",
      "         [5, 3, 3],\n",
      "         [3, 1, 4]]]) \n",
      "torch.Size([1, 4, 3])\n",
      "sum across dim 1:\n",
      " tensor([[[6, 4, 6]],\n",
      "\n",
      "        [[6, 4, 7]]]) \n",
      "torch.Size([2, 1, 3])\n",
      "sum across dim 2:\n",
      " tensor([[[2],\n",
      "         [6],\n",
      "         [5],\n",
      "         [3]],\n",
      "\n",
      "        [[3],\n",
      "         [3],\n",
      "         [6],\n",
      "         [5]]]) \n",
      "torch.Size([2, 4, 1])\n"
     ]
    }
   ],
   "source": [
    "mat = torch.tensor([[[1, 0, 1], [2, 3, 1], [3, 1, 1], [0, 0, 3]],[[0, 0, 3], [1, 1, 1], [2, 2, 2], [3, 1, 1] ]])\n",
    "print(mat.shape)\n",
    "print(mat)\n",
    "\n",
    "print(f\"sum across dim 0:\\n {mat.sum(dim=0, keepdim=True)} \\n{mat.sum(dim=0, keepdim=True).shape}\")\n",
    "print(f\"sum across dim 1:\\n {mat.sum(dim=1, keepdim=True)} \\n{mat.sum(dim=1, keepdim=True).shape}\")\n",
    "print(f\"sum across dim 2:\\n {mat.sum(dim=2, keepdim=True)} \\n{mat.sum(dim=2, keepdim=True).shape}\")"
   ]
  },
  {
   "cell_type": "markdown",
   "id": "ea739cbb-fb6f-4465-b420-a33b39b08a9a",
   "metadata": {},
   "source": [
    "##### In NLP tokens refers to the total number of \"words\" in your corpus. The vocab is the number of unique \"words\".\n",
    "##### It should be the case that vocab <= tokens."
   ]
  },
  {
   "cell_type": "code",
   "execution_count": 65,
   "id": "40d10d55-6844-469e-96c5-e6844a9256e1",
   "metadata": {},
   "outputs": [
    {
     "name": "stdout",
     "output_type": "stream",
     "text": [
      "['the', 'project', 'gutenberg', 'ebook', 'of', 'dorothy', 'and', 'the', 'wizard', 'in', 'oz', 'this', 'ebook', 'is', 'for', 'the', 'use', 'of', 'anyone', 'anywhere', 'in', 'the', 'united', 'states', 'and', 'most', 'other', 'parts', 'of', 'the']\n",
      "Total number of tokens: 42287\n",
      "vocabulary size: 4331\n"
     ]
    }
   ],
   "source": [
    "import re\n",
    "\n",
    "def clean_words(word_list):\n",
    "    cleaned_words = []\n",
    "    for word in word_list:\n",
    "        cleaned_word = re.sub(r'^[^a-zA-Z]*|[^a-zA-Z]*$', '', word)\n",
    "        if cleaned_word:  # Check if the word is not empty after cleaning\n",
    "            cleaned_words.append(cleaned_word)\n",
    "    return cleaned_words\n",
    "\n",
    "tokens = text.lower().strip().split()\n",
    "tokens = clean_words(tokens)\n",
    "print(tokens[:30])\n",
    "print(f\"Total number of tokens: {len(tokens)}\")\n",
    "\n",
    "vocab = sorted(set(tokens))\n",
    "print(f\"vocabulary size: {len(vocab)}\")"
   ]
  },
  {
   "cell_type": "code",
   "execution_count": 66,
   "id": "d925b6e4-1996-4cb5-ac41-c39834e7ee47",
   "metadata": {},
   "outputs": [
    {
     "name": "stdout",
     "output_type": "stream",
     "text": [
      "input: [['the', 'project'], ['project', 'gutenberg'], ['gutenberg', 'ebook'], ['ebook', 'of']]\n",
      "target: ['gutenberg', 'ebook', 'of', 'dorothy']\n"
     ]
    }
   ],
   "source": [
    "# Step 2: Data Preparation\n",
    "\n",
    "# Decide on the sequence length (e.g., bi-grams, tri-grams)\n",
    "sequence_length = 2  # For bi-grams\n",
    "# Create input-output pairs for training\n",
    "input_sequences = [tokens[i:i+sequence_length] for i in range(len(tokens) - sequence_length)]\n",
    "target_outputs = [tokens[i+sequence_length] for i in range(len(tokens) - sequence_length)]\n",
    "\n",
    "print(f\"input: {input_sequences[:4]}\")\n",
    "print(f\"target: {target_outputs[:4]}\")"
   ]
  },
  {
   "cell_type": "code",
   "execution_count": 71,
   "id": "de17f356-4cbe-4029-a32a-a98153fc5b76",
   "metadata": {},
   "outputs": [],
   "source": [
    "# Step 3: Tokenization\n",
    "# Create a vocabulary mapping each unique token to a numerical ID\n",
    "vocab = {token: i for i, token in enumerate(set(tokens))}\n",
    "\n",
    "# Convert tokens to numerical IDs\n",
    "input_sequences_ids = [[vocab[token] for token in sequence] for sequence in input_sequences]\n",
    "target_outputs_ids = [vocab[token] for token in target_outputs]"
   ]
  },
  {
   "cell_type": "code",
   "execution_count": 93,
   "id": "0456dcaf-6881-49ec-b74e-9e540af23db6",
   "metadata": {},
   "outputs": [
    {
     "name": "stdout",
     "output_type": "stream",
     "text": [
      "['my', 'name', 'is', 'dorothy']\n",
      "('dorothy',)\n",
      "dorothy and the project gutenberg ebook of dorothy and the project gutenberg ebook of dorothy and the project gutenberg ebook of dorothy and the project gutenberg ebook of dorothy and the project gutenberg ebook of dorothy and the project gutenberg ebook of dorothy and the project gutenberg ebook of dorothy and the project gutenberg ebook of dorothy and the project gutenberg ebook of dorothy and the project gutenberg ebook of dorothy and the project gutenberg ebook of dorothy and the project gutenberg ebook of dorothy and the project gutenberg ebook of dorothy and the project gutenberg ebook of dorothy and the\n"
     ]
    }
   ],
   "source": [
    "# Step 4: Model Building\n",
    "# Define a simple n-gram language model\n",
    "from collections import defaultdict\n",
    "# from nltk.tokenize import word_tokenize\n",
    "\n",
    "class NGramLanguageModel:\n",
    "    def __init__(self, n):\n",
    "        self.n = n\n",
    "        self.ngrams = defaultdict(list)\n",
    "\n",
    "    def train(self, tokens):\n",
    "        # tokens = word_tokenize(corpus)\n",
    "        for i in range(len(tokens) - self.n + 1):\n",
    "            ngram = tuple(tokens[i:i+self.n])\n",
    "            self.ngrams[ngram[:-1]].append(ngram[-1])\n",
    "\n",
    "    def generate_text(self, input_string, num_words=50):\n",
    "        tokens = input_string.lower().strip().split()\n",
    "        tokens = clean_words(tokens)\n",
    "        print(tokens)\n",
    "        seed = tuple(tokens)[-self.n+1:]\n",
    "        print(seed)\n",
    "        result = list(seed)\n",
    "        for _ in range(num_words):\n",
    "            last_n_words = tuple(result[-self.n+1:])\n",
    "            next_word = self._get_next_word(last_n_words)\n",
    "            if next_word:\n",
    "                result.append(next_word)\n",
    "            else:\n",
    "                break\n",
    "        return ' '.join(result)\n",
    "\n",
    "    def _get_next_word(self, ngram_prefix):\n",
    "        possible_next_words = self.ngrams.get(ngram_prefix, [])\n",
    "        if possible_next_words:\n",
    "            return possible_next_words[0]  # Just return the first next word for simplicity\n",
    "        else:\n",
    "            return None\n",
    "\n",
    "    def _get_random_seed(self):\n",
    "        # Return a random seed from the available n-grams\n",
    "        return next(iter(self.ngrams.keys()))\n",
    "\n",
    "# Example usage:\n",
    "corpus = \"The quick brown fox jumps over the lazy dog\"\n",
    "n = 2\n",
    "model = NGramLanguageModel(n)\n",
    "model.train(tokens)\n",
    "generated_text = model.generate_text(input_string=\"my name is dorothy\",num_words= 100)\n",
    "print(generated_text)\n"
   ]
  },
  {
   "cell_type": "code",
   "execution_count": 96,
   "id": "eaf6a82a-7d9b-4feb-bb0b-a2e5e2b1868e",
   "metadata": {},
   "outputs": [
    {
     "data": {
      "text/plain": [
       "tensor([0, 0, 0, 0, 0], dtype=torch.int32)"
      ]
     },
     "execution_count": 96,
     "metadata": {},
     "output_type": "execute_result"
    }
   ],
   "source": [
    "torch.zeros(5, dtype = torch.int32)"
   ]
  },
  {
   "cell_type": "markdown",
   "id": "8452909b-5275-452d-83ce-0bb77d1e42a3",
   "metadata": {},
   "source": [
    "##### Now we have the tokens but for training the model we will need to convert each token to vectors aka Embeddings"
   ]
  },
  {
   "cell_type": "code",
   "execution_count": 47,
   "id": "ba29e3ad-944a-4831-99c8-88229b4d7d17",
   "metadata": {},
   "outputs": [
    {
     "ename": "TypeError",
     "evalue": "embedding(): argument 'indices' (position 2) must be Tensor, not list",
     "output_type": "error",
     "traceback": [
      "\u001b[1;31m---------------------------------------------------------------------------\u001b[0m",
      "\u001b[1;31mTypeError\u001b[0m                                 Traceback (most recent call last)",
      "Cell \u001b[1;32mIn[47], line 2\u001b[0m\n\u001b[0;32m      1\u001b[0m embedding \u001b[38;5;241m=\u001b[39m nn\u001b[38;5;241m.\u001b[39mEmbedding(num_embeddings\u001b[38;5;241m=\u001b[39m\u001b[38;5;28mlen\u001b[39m(tokens), embedding_dim\u001b[38;5;241m=\u001b[39m \u001b[38;5;241m8\u001b[39m)\n\u001b[1;32m----> 2\u001b[0m token_embeddings \u001b[38;5;241m=\u001b[39m \u001b[43membedding\u001b[49m\u001b[43m(\u001b[49m\u001b[43mtokens\u001b[49m\u001b[43m)\u001b[49m\n",
      "File \u001b[1;32m~\\Anaconda3\\envs\\pytorch\\lib\\site-packages\\torch\\nn\\modules\\module.py:1194\u001b[0m, in \u001b[0;36mModule._call_impl\u001b[1;34m(self, *input, **kwargs)\u001b[0m\n\u001b[0;32m   1190\u001b[0m \u001b[38;5;66;03m# If we don't have any hooks, we want to skip the rest of the logic in\u001b[39;00m\n\u001b[0;32m   1191\u001b[0m \u001b[38;5;66;03m# this function, and just call forward.\u001b[39;00m\n\u001b[0;32m   1192\u001b[0m \u001b[38;5;28;01mif\u001b[39;00m \u001b[38;5;129;01mnot\u001b[39;00m (\u001b[38;5;28mself\u001b[39m\u001b[38;5;241m.\u001b[39m_backward_hooks \u001b[38;5;129;01mor\u001b[39;00m \u001b[38;5;28mself\u001b[39m\u001b[38;5;241m.\u001b[39m_forward_hooks \u001b[38;5;129;01mor\u001b[39;00m \u001b[38;5;28mself\u001b[39m\u001b[38;5;241m.\u001b[39m_forward_pre_hooks \u001b[38;5;129;01mor\u001b[39;00m _global_backward_hooks\n\u001b[0;32m   1193\u001b[0m         \u001b[38;5;129;01mor\u001b[39;00m _global_forward_hooks \u001b[38;5;129;01mor\u001b[39;00m _global_forward_pre_hooks):\n\u001b[1;32m-> 1194\u001b[0m     \u001b[38;5;28;01mreturn\u001b[39;00m forward_call(\u001b[38;5;241m*\u001b[39m\u001b[38;5;28minput\u001b[39m, \u001b[38;5;241m*\u001b[39m\u001b[38;5;241m*\u001b[39mkwargs)\n\u001b[0;32m   1195\u001b[0m \u001b[38;5;66;03m# Do not call functions when jit is used\u001b[39;00m\n\u001b[0;32m   1196\u001b[0m full_backward_hooks, non_full_backward_hooks \u001b[38;5;241m=\u001b[39m [], []\n",
      "File \u001b[1;32m~\\Anaconda3\\envs\\pytorch\\lib\\site-packages\\torch\\nn\\modules\\sparse.py:160\u001b[0m, in \u001b[0;36mEmbedding.forward\u001b[1;34m(self, input)\u001b[0m\n\u001b[0;32m    159\u001b[0m \u001b[38;5;28;01mdef\u001b[39;00m \u001b[38;5;21mforward\u001b[39m(\u001b[38;5;28mself\u001b[39m, \u001b[38;5;28minput\u001b[39m: Tensor) \u001b[38;5;241m-\u001b[39m\u001b[38;5;241m>\u001b[39m Tensor:\n\u001b[1;32m--> 160\u001b[0m     \u001b[38;5;28;01mreturn\u001b[39;00m \u001b[43mF\u001b[49m\u001b[38;5;241;43m.\u001b[39;49m\u001b[43membedding\u001b[49m\u001b[43m(\u001b[49m\n\u001b[0;32m    161\u001b[0m \u001b[43m        \u001b[49m\u001b[38;5;28;43minput\u001b[39;49m\u001b[43m,\u001b[49m\u001b[43m \u001b[49m\u001b[38;5;28;43mself\u001b[39;49m\u001b[38;5;241;43m.\u001b[39;49m\u001b[43mweight\u001b[49m\u001b[43m,\u001b[49m\u001b[43m \u001b[49m\u001b[38;5;28;43mself\u001b[39;49m\u001b[38;5;241;43m.\u001b[39;49m\u001b[43mpadding_idx\u001b[49m\u001b[43m,\u001b[49m\u001b[43m \u001b[49m\u001b[38;5;28;43mself\u001b[39;49m\u001b[38;5;241;43m.\u001b[39;49m\u001b[43mmax_norm\u001b[49m\u001b[43m,\u001b[49m\n\u001b[0;32m    162\u001b[0m \u001b[43m        \u001b[49m\u001b[38;5;28;43mself\u001b[39;49m\u001b[38;5;241;43m.\u001b[39;49m\u001b[43mnorm_type\u001b[49m\u001b[43m,\u001b[49m\u001b[43m \u001b[49m\u001b[38;5;28;43mself\u001b[39;49m\u001b[38;5;241;43m.\u001b[39;49m\u001b[43mscale_grad_by_freq\u001b[49m\u001b[43m,\u001b[49m\u001b[43m \u001b[49m\u001b[38;5;28;43mself\u001b[39;49m\u001b[38;5;241;43m.\u001b[39;49m\u001b[43msparse\u001b[49m\u001b[43m)\u001b[49m\n",
      "File \u001b[1;32m~\\Anaconda3\\envs\\pytorch\\lib\\site-packages\\torch\\nn\\functional.py:2210\u001b[0m, in \u001b[0;36membedding\u001b[1;34m(input, weight, padding_idx, max_norm, norm_type, scale_grad_by_freq, sparse)\u001b[0m\n\u001b[0;32m   2204\u001b[0m     \u001b[38;5;66;03m# Note [embedding_renorm set_grad_enabled]\u001b[39;00m\n\u001b[0;32m   2205\u001b[0m     \u001b[38;5;66;03m# XXX: equivalent to\u001b[39;00m\n\u001b[0;32m   2206\u001b[0m     \u001b[38;5;66;03m# with torch.no_grad():\u001b[39;00m\n\u001b[0;32m   2207\u001b[0m     \u001b[38;5;66;03m#   torch.embedding_renorm_\u001b[39;00m\n\u001b[0;32m   2208\u001b[0m     \u001b[38;5;66;03m# remove once script supports set_grad_enabled\u001b[39;00m\n\u001b[0;32m   2209\u001b[0m     _no_grad_embedding_renorm_(weight, \u001b[38;5;28minput\u001b[39m, max_norm, norm_type)\n\u001b[1;32m-> 2210\u001b[0m \u001b[38;5;28;01mreturn\u001b[39;00m \u001b[43mtorch\u001b[49m\u001b[38;5;241;43m.\u001b[39;49m\u001b[43membedding\u001b[49m\u001b[43m(\u001b[49m\u001b[43mweight\u001b[49m\u001b[43m,\u001b[49m\u001b[43m \u001b[49m\u001b[38;5;28;43minput\u001b[39;49m\u001b[43m,\u001b[49m\u001b[43m \u001b[49m\u001b[43mpadding_idx\u001b[49m\u001b[43m,\u001b[49m\u001b[43m \u001b[49m\u001b[43mscale_grad_by_freq\u001b[49m\u001b[43m,\u001b[49m\u001b[43m \u001b[49m\u001b[43msparse\u001b[49m\u001b[43m)\u001b[49m\n",
      "\u001b[1;31mTypeError\u001b[0m: embedding(): argument 'indices' (position 2) must be Tensor, not list"
     ]
    }
   ],
   "source": [
    "embedding = nn.Embedding(num_embeddings=len(tokens), embedding_dim= 8)\n",
    "token_embeddings = embedding(tokens)\n"
   ]
  },
  {
   "cell_type": "code",
   "execution_count": 8,
   "id": "71be073c-e499-453b-b3a6-5bc9134b3ed3",
   "metadata": {},
   "outputs": [
    {
     "name": "stdout",
     "output_type": "stream",
     "text": [
      "Writing trial_file.py\n"
     ]
    }
   ],
   "source": [
    "%%writefile trial_file.py\n",
    "\n",
    "import argparse\n",
    "\n",
    "def addition(a, b):\n",
    "    return a+b\n",
    "\n",
    "if __name__ == \"__main__\":\n",
    "    parser = argparse.ArgumentParser()\n",
    "    parser.add_argument(\"--a\", type = int, default= 0)\n",
    "    parser.add_argument(\"--b\", type = int, default= 0)\n",
    "    args = parser.parse_args()\n",
    "    a = args.a\n",
    "    b = args.b\n",
    "    c = addition(a, b)\n",
    "    print(f\"sum of given to nos. is {c}\")"
   ]
  },
  {
   "cell_type": "code",
   "execution_count": 10,
   "id": "5cf5dddc-0861-4002-be15-4559bb9b94bb",
   "metadata": {},
   "outputs": [
    {
     "name": "stdout",
     "output_type": "stream",
     "text": [
      "sum of given to nos. is 13\n"
     ]
    }
   ],
   "source": [
    "%run trial_file.py --a 6 --b 7"
   ]
  },
  {
   "cell_type": "code",
   "execution_count": 11,
   "id": "f7346a9d-61e7-407f-a11d-c9844dae83a0",
   "metadata": {},
   "outputs": [],
   "source": [
    "%mkdir python_scripts"
   ]
  },
  {
   "cell_type": "code",
   "execution_count": 15,
   "id": "461bb873-ff71-4843-b383-483fa1b3b01d",
   "metadata": {},
   "outputs": [
    {
     "name": "stdout",
     "output_type": "stream",
     "text": [
      "sum of given to nos. is 571889\n",
      "CPU times: total: 15.6 ms\n",
      "Wall time: 3.02 ms\n"
     ]
    }
   ],
   "source": [
    "%%time\n",
    "%run trial_file.py --a 2890 --b 568999"
   ]
  },
  {
   "cell_type": "code",
   "execution_count": null,
   "id": "6a00216f-36a5-4c91-8a24-0e0334409f7f",
   "metadata": {},
   "outputs": [],
   "source": []
  }
 ],
 "metadata": {
  "kernelspec": {
   "display_name": "Python (llm)",
   "language": "python",
   "name": "llm"
  },
  "language_info": {
   "codemirror_mode": {
    "name": "ipython",
    "version": 3
   },
   "file_extension": ".py",
   "mimetype": "text/x-python",
   "name": "python",
   "nbconvert_exporter": "python",
   "pygments_lexer": "ipython3",
   "version": "3.9.0"
  }
 },
 "nbformat": 4,
 "nbformat_minor": 5
}
